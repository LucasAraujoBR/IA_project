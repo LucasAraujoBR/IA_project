{
 "cells": [
  {
   "cell_type": "markdown",
   "id": "6ffe040c",
   "metadata": {},
   "source": [
    "Link dos datasets\n",
    "\n",
    "Samba: https://www.kaggle.com/datasets/clovesgtx/brazilian-music-samba-lyrics\n",
    "\n",
    "Gospel: https://raw.githubusercontent.com/damarals/letras/master/inst/csv/letras.csv\n",
    "\n",
    "Axe: https://www.kaggle.com/datasets/jorgefjr/brazilian-songs-lyrics\n",
    "\n",
    "Funk: https://www.kaggle.com/datasets/sleshes/funk-carioca-dataset\n",
    "\n",
    "Bossa Nova: https://www.kaggle.com/datasets/mcarujo/bossa-nova-lyrics\n",
    "\n",
    "Rock,Sertanejo, Samba2 = https://github.com/gabriellmd/data-frames-nlp"
   ]
  },
  {
   "cell_type": "code",
   "execution_count": 2,
   "id": "fc065807",
   "metadata": {},
   "outputs": [],
   "source": [
    "import pandas as pd\n",
    "import numpy as np\n",
    "import string\n",
    "from sklearn.model_selection import train_test_split\n",
    "from sklearn.pipeline import Pipeline\n",
    "from sklearn.feature_extraction.text import CountVectorizer\n",
    "from sklearn.feature_extraction.text import TfidfTransformer\n",
    "from sklearn.naive_bayes import MultinomialNB\n",
    "from sklearn.metrics import classification_report"
   ]
  },
  {
   "cell_type": "code",
   "execution_count": 3,
   "id": "1cf7cb51",
   "metadata": {},
   "outputs": [],
   "source": [
    "bossa = pd.read_csv('datasets/bossa_nova_songs_dataset.csv')\n",
    "samba2 = pd.read_csv('datasets/musicas_samba.csv')\n",
    "sertanejo = pd.read_csv('datasets/musicas_sertanejo.csv')\n",
    "samba = pd.read_csv('datasets/samba_dataset.csv',sep='|')\n",
    "axe = pd.read_csv('datasets/letras_mus_br_axe.csv')\n",
    "funk = pd.read_csv('datasets/Dataset_funk_carioca.csv')\n",
    "rock = pd.read_csv('datasets/musicas_rock.csv') \n",
    "gospel = pd.read_csv('datasets/gospel.csv') "
   ]
  },
  {
   "cell_type": "markdown",
   "id": "e1497972",
   "metadata": {},
   "source": [
    "Padronização dos datasets "
   ]
  },
  {
   "cell_type": "code",
   "execution_count": 4,
   "id": "e0ffe141",
   "metadata": {},
   "outputs": [],
   "source": [
    "gospel_ajustado = pd.DataFrame(gospel['letra'])  #OK\n",
    "gospel_ajustado.rename(columns={'letra': 'lyric'}, inplace = True) #OK"
   ]
  },
  {
   "cell_type": "code",
   "execution_count": 5,
   "id": "c493a4b8",
   "metadata": {},
   "outputs": [],
   "source": [
    "rock_ajustado = pd.DataFrame(rock['Lyric'])  #OK\n",
    "rock_ajustado.rename(columns={'Lyric': 'lyric'}, inplace = True) #OK"
   ]
  },
  {
   "cell_type": "code",
   "execution_count": 6,
   "id": "5bb4247d",
   "metadata": {},
   "outputs": [],
   "source": [
    "samba_ajustado = pd.DataFrame(samba['letra'])  #OK\n",
    "samba_ajustado.rename(columns={'letra': 'lyric'}, inplace = True) #OK"
   ]
  },
  {
   "cell_type": "code",
   "execution_count": 7,
   "id": "f4e336a0",
   "metadata": {},
   "outputs": [],
   "source": [
    "samba2_ajustado = pd.DataFrame(samba2['Lyric'])  #OK\n",
    "samba2_ajustado.rename(columns={'Lyric': 'lyric'}, inplace = True) #OK"
   ]
  },
  {
   "cell_type": "code",
   "execution_count": 8,
   "id": "93a8c6f2",
   "metadata": {},
   "outputs": [],
   "source": [
    "axe_ajustado = pd.DataFrame(axe['letras'])  #OK\n",
    "axe_ajustado.rename(columns={'letras': 'lyric'}, inplace = True) #OK"
   ]
  },
  {
   "cell_type": "code",
   "execution_count": 9,
   "id": "84dbdcdf",
   "metadata": {},
   "outputs": [],
   "source": [
    "funk_ajustado = pd.DataFrame(funk['letra'])  #OK\n",
    "funk_ajustado.rename(columns={'letra': 'lyric'}, inplace = True) #OK"
   ]
  },
  {
   "cell_type": "code",
   "execution_count": 10,
   "id": "8ee6dfec",
   "metadata": {},
   "outputs": [],
   "source": [
    "bossa_ajustado = pd.DataFrame(bossa['song_lyrics'])  #OK\n",
    "bossa_ajustado.rename(columns={'song_lyrics': 'lyric'}, inplace = True) #OK"
   ]
  },
  {
   "cell_type": "code",
   "execution_count": 11,
   "id": "2ec3251a",
   "metadata": {},
   "outputs": [],
   "source": [
    "sertanejo_ajustado = pd.DataFrame(sertanejo['Lyric'])  #OK\n",
    "sertanejo_ajustado.rename(columns={'Lyric': 'lyric'}, inplace = True) #OK"
   ]
  },
  {
   "cell_type": "markdown",
   "id": "846236d5",
   "metadata": {},
   "source": [
    "Criando a coluna correspondete ao genero"
   ]
  },
  {
   "cell_type": "code",
   "execution_count": 12,
   "id": "5388e1d7",
   "metadata": {},
   "outputs": [],
   "source": [
    "bossa_ajustado['gen'] = 'Bossa Nova'\n",
    "funk_ajustado['gen'] = 'Funk'\n",
    "gospel_ajustado['gen'] = 'Gospel'\n",
    "sertanejo_ajustado['gen'] = 'Sertanejo'\n",
    "axe_ajustado['gen'] = 'Axe'\n",
    "rock_ajustado['gen'] = 'Rock'\n",
    "samba_ajustado['gen'] = 'Samba'\n",
    "samba2_ajustado['gen'] = 'Samba'"
   ]
  },
  {
   "cell_type": "code",
   "execution_count": 13,
   "id": "171d7661",
   "metadata": {},
   "outputs": [],
   "source": [
    "datasets = [bossa_ajustado,funk_ajustado,gospel_ajustado,sertanejo_ajustado,axe_ajustado,rock_ajustado,samba_ajustado,samba2_ajustado]"
   ]
  },
  {
   "cell_type": "code",
   "execution_count": 14,
   "id": "4cb1cedd",
   "metadata": {},
   "outputs": [],
   "source": [
    "lyrics = pd.concat(datasets)"
   ]
  },
  {
   "cell_type": "markdown",
   "id": "f3ea7bfd",
   "metadata": {},
   "source": [
    "# Dataset final "
   ]
  },
  {
   "cell_type": "code",
   "execution_count": 15,
   "id": "461bea2c",
   "metadata": {},
   "outputs": [
    {
     "data": {
      "text/html": [
       "<div>\n",
       "<style scoped>\n",
       "    .dataframe tbody tr th:only-of-type {\n",
       "        vertical-align: middle;\n",
       "    }\n",
       "\n",
       "    .dataframe tbody tr th {\n",
       "        vertical-align: top;\n",
       "    }\n",
       "\n",
       "    .dataframe thead th {\n",
       "        text-align: right;\n",
       "    }\n",
       "</style>\n",
       "<table border=\"1\" class=\"dataframe\">\n",
       "  <thead>\n",
       "    <tr style=\"text-align: right;\">\n",
       "      <th></th>\n",
       "      <th>lyric</th>\n",
       "      <th>gen</th>\n",
       "    </tr>\n",
       "  </thead>\n",
       "  <tbody>\n",
       "    <tr>\n",
       "      <th>0</th>\n",
       "      <td>De tudo, ao meu amor serei atento antes E co...</td>\n",
       "      <td>Bossa Nova</td>\n",
       "    </tr>\n",
       "    <tr>\n",
       "      <th>1</th>\n",
       "      <td>Era uma casa Muito engraçada Não tinha teto ...</td>\n",
       "      <td>Bossa Nova</td>\n",
       "    </tr>\n",
       "    <tr>\n",
       "      <th>2</th>\n",
       "      <td>E por falar em saudade Onde anda você Onde a...</td>\n",
       "      <td>Bossa Nova</td>\n",
       "    </tr>\n",
       "    <tr>\n",
       "      <th>3</th>\n",
       "      <td>Filhos... Filhos? Melhor não tê-los! Mas se ...</td>\n",
       "      <td>Bossa Nova</td>\n",
       "    </tr>\n",
       "    <tr>\n",
       "      <th>4</th>\n",
       "      <td>É melhor ser alegre que ser triste Alegria é...</td>\n",
       "      <td>Bossa Nova</td>\n",
       "    </tr>\n",
       "    <tr>\n",
       "      <th>...</th>\n",
       "      <td>...</td>\n",
       "      <td>...</td>\n",
       "    </tr>\n",
       "    <tr>\n",
       "      <th>65762</th>\n",
       "      <td>Tom............:. Introdução.: Dm C#o Gm C7 F ...</td>\n",
       "      <td>Samba</td>\n",
       "    </tr>\n",
       "    <tr>\n",
       "      <th>65763</th>\n",
       "      <td>Resolvi te abandonar te deixar para traz, deci...</td>\n",
       "      <td>Samba</td>\n",
       "    </tr>\n",
       "    <tr>\n",
       "      <th>65764</th>\n",
       "      <td>Ela mexe comigo. E o pior que não sabe. Coment...</td>\n",
       "      <td>Samba</td>\n",
       "    </tr>\n",
       "    <tr>\n",
       "      <th>65765</th>\n",
       "      <td>O pai me disse que a tradição é lanterna. Vem ...</td>\n",
       "      <td>Samba</td>\n",
       "    </tr>\n",
       "    <tr>\n",
       "      <th>65766</th>\n",
       "      <td>O Sonho Não Acabou / Vivo Isolado do Mundo (DV...</td>\n",
       "      <td>Samba</td>\n",
       "    </tr>\n",
       "  </tbody>\n",
       "</table>\n",
       "<p>65767 rows × 2 columns</p>\n",
       "</div>"
      ],
      "text/plain": [
       "                                                   lyric         gen\n",
       "0        De tudo, ao meu amor serei atento antes E co...  Bossa Nova\n",
       "1        Era uma casa Muito engraçada Não tinha teto ...  Bossa Nova\n",
       "2        E por falar em saudade Onde anda você Onde a...  Bossa Nova\n",
       "3        Filhos... Filhos? Melhor não tê-los! Mas se ...  Bossa Nova\n",
       "4        É melhor ser alegre que ser triste Alegria é...  Bossa Nova\n",
       "...                                                  ...         ...\n",
       "65762  Tom............:. Introdução.: Dm C#o Gm C7 F ...       Samba\n",
       "65763  Resolvi te abandonar te deixar para traz, deci...       Samba\n",
       "65764  Ela mexe comigo. E o pior que não sabe. Coment...       Samba\n",
       "65765  O pai me disse que a tradição é lanterna. Vem ...       Samba\n",
       "65766  O Sonho Não Acabou / Vivo Isolado do Mundo (DV...       Samba\n",
       "\n",
       "[65767 rows x 2 columns]"
      ]
     },
     "execution_count": 15,
     "metadata": {},
     "output_type": "execute_result"
    }
   ],
   "source": [
    "lyrics.reset_index(drop=True,inplace=True)\n",
    "lyrics"
   ]
  },
  {
   "cell_type": "markdown",
   "id": "0157820a",
   "metadata": {},
   "source": [
    "# Pré-processamento"
   ]
  },
  {
   "cell_type": "code",
   "execution_count": 16,
   "id": "e6d2108f",
   "metadata": {},
   "outputs": [],
   "source": [
    "def processamento_texto(txt):\n",
    "    # remover quebras de linha\n",
    "    txt = txt.replace('\\n',' ')\n",
    "    # remover símbolos de pontuação, resultando em um array de caracteres\n",
    "    txt = [char for char in txt if char not in string.punctuation]\n",
    "    # depois, juntar os caracteres em palavras novamente e separá-los em uma lista de tokens\n",
    "    txt = ''.join(txt).split()\n",
    "    # por fim, remover as stopwords da lista\n",
    "    #txt = [word for word in txt if word.lower() not in stopwords.words('portuguese')]\n",
    "    \n",
    "    return txt"
   ]
  },
  {
   "cell_type": "markdown",
   "id": "7608499e",
   "metadata": {},
   "source": [
    "## Naive-Bayes"
   ]
  },
  {
   "cell_type": "code",
   "execution_count": 17,
   "id": "9d765f21",
   "metadata": {},
   "outputs": [],
   "source": [
    "naive_bayes_array = np.array([])"
   ]
  },
  {
   "cell_type": "code",
   "execution_count": 23,
   "id": "659be4a6",
   "metadata": {},
   "outputs": [
    {
     "name": "stdout",
     "output_type": "stream",
     "text": [
      "{'fit_time': array([14.19241524, 14.44382524, 17.44864535, 17.04060268, 25.73873758,\n",
      "       16.25668287, 13.75932789, 12.04971695, 11.55023217, 11.32262349]), 'score_time': array([1.12147117, 2.77197361, 1.51865005, 3.79123759, 2.41887498,\n",
      "       1.88805342, 1.32981634, 1.26666021, 1.21575022, 1.36517477]), 'test_acc': array([0.82758096, 0.83199027, 0.83016573, 0.86483199, 0.84841113,\n",
      "       0.83731184, 0.81602554, 0.85507908, 0.85051703, 0.83941606]), 'test_prec': array([0.82758096, 0.83199027, 0.83016573, 0.86483199, 0.84841113,\n",
      "       0.83731184, 0.81602554, 0.85507908, 0.85051703, 0.83941606])}\n",
      "{'fit_time': array([14.57846737, 13.91970849, 14.65844154, 12.85321951, 27.54060721,\n",
      "       22.3139267 , 15.57516813, 13.13273644, 12.33030868, 12.93927526]), 'score_time': array([1.23995066, 2.31973672, 1.22463822, 1.37878227, 1.74160957,\n",
      "       1.34300208, 1.62265754, 1.15861011, 1.25356245, 1.86916041]), 'test_acc': array([0.82758096, 0.83199027, 0.83016573, 0.86483199, 0.84841113,\n",
      "       0.83731184, 0.81602554, 0.85507908, 0.85051703, 0.83941606]), 'test_prec': array([0.82758096, 0.83199027, 0.83016573, 0.86483199, 0.84841113,\n",
      "       0.83731184, 0.81602554, 0.85507908, 0.85051703, 0.83941606])}\n",
      "{'fit_time': array([20.67889643, 25.23079443, 28.90886402, 33.6074326 , 36.03346372,\n",
      "       32.86517239, 39.93336082, 35.21466756, 34.73945498, 33.39486504]), 'score_time': array([3.60241437, 1.30620527, 3.07060599, 3.25528598, 3.98526907,\n",
      "       3.31751299, 3.76645923, 3.28552461, 4.19929004, 3.13993764]), 'test_acc': array([0.82758096, 0.83199027, 0.83016573, 0.86483199, 0.84841113,\n",
      "       0.83731184, 0.81602554, 0.85507908, 0.85051703, 0.83941606]), 'test_prec': array([0.82758096, 0.83199027, 0.83016573, 0.86483199, 0.84841113,\n",
      "       0.83731184, 0.81602554, 0.85507908, 0.85051703, 0.83941606])}\n",
      "Unexpected exception formatting exception. Falling back to standard exception\n"
     ]
    },
    {
     "name": "stderr",
     "output_type": "stream",
     "text": [
      "Traceback (most recent call last):\n",
      "  File \"D:\\AppsFacul\\IA\\venv\\lib\\site-packages\\sklearn\\metrics\\_scorer.py\", line 74, in _cached_call\n",
      "    return cache[method]\n",
      "KeyError: 'predict'\n",
      "\n",
      "During handling of the above exception, another exception occurred:\n",
      "\n",
      "Traceback (most recent call last):\n",
      "  File \"D:\\AppsFacul\\IA\\venv\\lib\\site-packages\\IPython\\core\\interactiveshell.py\", line 3378, in run_code\n",
      "    exec(code_obj, self.user_global_ns, self.user_ns)\n",
      "  File \"C:\\Users\\luizm\\AppData\\Local\\Temp\\ipykernel_3808\\1416123291.py\", line 12, in <module>\n",
      "    scores = cross_validate(pipeline,lyrics['lyric'].values.astype('U'),lyrics['gen'].values.astype('U'),cv=10,scoring=scoring)\n",
      "  File \"D:\\AppsFacul\\IA\\venv\\lib\\site-packages\\sklearn\\model_selection\\_validation.py\", line 266, in cross_validate\n",
      "    results = parallel(\n",
      "  File \"D:\\AppsFacul\\IA\\venv\\lib\\site-packages\\joblib\\parallel.py\", line 1046, in __call__\n",
      "    while self.dispatch_one_batch(iterator):\n",
      "  File \"D:\\AppsFacul\\IA\\venv\\lib\\site-packages\\joblib\\parallel.py\", line 861, in dispatch_one_batch\n",
      "    self._dispatch(tasks)\n",
      "  File \"D:\\AppsFacul\\IA\\venv\\lib\\site-packages\\joblib\\parallel.py\", line 779, in _dispatch\n",
      "    job = self._backend.apply_async(batch, callback=cb)\n",
      "  File \"D:\\AppsFacul\\IA\\venv\\lib\\site-packages\\joblib\\_parallel_backends.py\", line 208, in apply_async\n",
      "    result = ImmediateResult(func)\n",
      "  File \"D:\\AppsFacul\\IA\\venv\\lib\\site-packages\\joblib\\_parallel_backends.py\", line 572, in __init__\n",
      "    self.results = batch()\n",
      "  File \"D:\\AppsFacul\\IA\\venv\\lib\\site-packages\\joblib\\parallel.py\", line 262, in __call__\n",
      "    return [func(*args, **kwargs)\n",
      "  File \"D:\\AppsFacul\\IA\\venv\\lib\\site-packages\\joblib\\parallel.py\", line 262, in <listcomp>\n",
      "    return [func(*args, **kwargs)\n",
      "  File \"D:\\AppsFacul\\IA\\venv\\lib\\site-packages\\sklearn\\utils\\fixes.py\", line 117, in __call__\n",
      "    return self.function(*args, **kwargs)\n",
      "  File \"D:\\AppsFacul\\IA\\venv\\lib\\site-packages\\sklearn\\model_selection\\_validation.py\", line 708, in _fit_and_score\n",
      "    test_scores = _score(estimator, X_test, y_test, scorer, error_score)\n",
      "  File \"D:\\AppsFacul\\IA\\venv\\lib\\site-packages\\sklearn\\model_selection\\_validation.py\", line 767, in _score\n",
      "    scores = scorer(estimator, X_test, y_test)\n",
      "  File \"D:\\AppsFacul\\IA\\venv\\lib\\site-packages\\sklearn\\metrics\\_scorer.py\", line 106, in __call__\n",
      "    score = scorer._score(cached_call, estimator, *args, **kwargs)\n",
      "  File \"D:\\AppsFacul\\IA\\venv\\lib\\site-packages\\sklearn\\metrics\\_scorer.py\", line 261, in _score\n",
      "    y_pred = method_caller(estimator, \"predict\", X)\n",
      "  File \"D:\\AppsFacul\\IA\\venv\\lib\\site-packages\\sklearn\\metrics\\_scorer.py\", line 76, in _cached_call\n",
      "    result = getattr(estimator, method)(*args, **kwargs)\n",
      "  File \"D:\\AppsFacul\\IA\\venv\\lib\\site-packages\\sklearn\\pipeline.py\", line 457, in predict\n",
      "    Xt = transform.transform(Xt)\n",
      "  File \"D:\\AppsFacul\\IA\\venv\\lib\\site-packages\\sklearn\\feature_extraction\\text.py\", line 1387, in transform\n",
      "    _, X = self._count_vocab(raw_documents, fixed_vocab=True)\n",
      "  File \"D:\\AppsFacul\\IA\\venv\\lib\\site-packages\\sklearn\\feature_extraction\\text.py\", line -1, in _count_vocab\n",
      "KeyboardInterrupt\n",
      "\n",
      "During handling of the above exception, another exception occurred:\n",
      "\n",
      "Traceback (most recent call last):\n",
      "  File \"D:\\AppsFacul\\IA\\venv\\lib\\site-packages\\IPython\\core\\interactiveshell.py\", line 1997, in showtraceback\n",
      "    stb = self.InteractiveTB.structured_traceback(\n",
      "  File \"D:\\AppsFacul\\IA\\venv\\lib\\site-packages\\IPython\\core\\ultratb.py\", line 1112, in structured_traceback\n",
      "    return FormattedTB.structured_traceback(\n",
      "  File \"D:\\AppsFacul\\IA\\venv\\lib\\site-packages\\IPython\\core\\ultratb.py\", line 1006, in structured_traceback\n",
      "    return VerboseTB.structured_traceback(\n",
      "  File \"D:\\AppsFacul\\IA\\venv\\lib\\site-packages\\IPython\\core\\ultratb.py\", line 859, in structured_traceback\n",
      "    formatted_exception = self.format_exception_as_a_whole(etype, evalue, etb, number_of_lines_of_context,\n",
      "  File \"D:\\AppsFacul\\IA\\venv\\lib\\site-packages\\IPython\\core\\ultratb.py\", line 812, in format_exception_as_a_whole\n",
      "    frames.append(self.format_record(r))\n",
      "  File \"D:\\AppsFacul\\IA\\venv\\lib\\site-packages\\IPython\\core\\ultratb.py\", line 730, in format_record\n",
      "    result += ''.join(_format_traceback_lines(frame_info.lines, Colors, self.has_colors, lvals))\n",
      "  File \"D:\\AppsFacul\\IA\\venv\\lib\\site-packages\\stack_data\\utils.py\", line 145, in cached_property_wrapper\n",
      "    value = obj.__dict__[self.func.__name__] = self.func(obj)\n",
      "  File \"D:\\AppsFacul\\IA\\venv\\lib\\site-packages\\stack_data\\core.py\", line 734, in lines\n",
      "    pieces = self.included_pieces\n",
      "  File \"D:\\AppsFacul\\IA\\venv\\lib\\site-packages\\stack_data\\utils.py\", line 145, in cached_property_wrapper\n",
      "    value = obj.__dict__[self.func.__name__] = self.func(obj)\n",
      "  File \"D:\\AppsFacul\\IA\\venv\\lib\\site-packages\\stack_data\\core.py\", line 681, in included_pieces\n",
      "    pos = scope_pieces.index(self.executing_piece)\n",
      "  File \"D:\\AppsFacul\\IA\\venv\\lib\\site-packages\\stack_data\\utils.py\", line 145, in cached_property_wrapper\n",
      "    value = obj.__dict__[self.func.__name__] = self.func(obj)\n",
      "  File \"D:\\AppsFacul\\IA\\venv\\lib\\site-packages\\stack_data\\core.py\", line 660, in executing_piece\n",
      "    return only(\n",
      "  File \"D:\\AppsFacul\\IA\\venv\\lib\\site-packages\\executing\\executing.py\", line 164, in only\n",
      "    raise NotOneValueFound('Expected one value, found 0')\n",
      "executing.executing.NotOneValueFound: Expected one value, found 0\n"
     ]
    }
   ],
   "source": [
    "from sklearn.model_selection import cross_validate\n",
    "\n",
    "for count in range(5):\n",
    "    lyric_train,lyric_test,gen_train,gen_test = train_test_split(lyrics['lyric'],lyrics['gen'],test_size=0.3)\n",
    "    pipeline = Pipeline([\n",
    "    ('bow',CountVectorizer(analyzer=processamento_texto,encoding ='unicode')),\n",
    "    ('tfidf',TfidfTransformer()),\n",
    "    ('nb',MultinomialNB())\n",
    "    ])\n",
    "    pipeline.fit(lyric_train.values.astype('U'),gen_train.values.astype('U'))\n",
    "    scoring = {'acc': 'accuracy', 'prec': 'precision_micro'}\n",
    "    scores = cross_validate(pipeline,lyrics['lyric'].values.astype('U'),lyrics['gen'].values.astype('U'),cv=10,scoring=scoring)\n",
    "    print(scores)\n",
    "    #naive_bayes_array = np.append(naive_bayes_array, scores)\n",
    "#media_nb = naive_bayes_array.mean()\n",
    "#media_nb"
   ]
  },
  {
   "cell_type": "markdown",
   "id": "58bcd390",
   "metadata": {},
   "source": [
    "## Random Forest"
   ]
  },
  {
   "cell_type": "code",
   "execution_count": null,
   "id": "c1169a3c",
   "metadata": {},
   "outputs": [],
   "source": [
    "from sklearn.ensemble import RandomForestClassifier\n",
    "from sklearn import preprocessing"
   ]
  },
  {
   "cell_type": "code",
   "execution_count": null,
   "id": "59d39204",
   "metadata": {},
   "outputs": [],
   "source": [
    "#rf = RandomForestRegressor(n_estimators = 1000, random_state = 42)"
   ]
  },
  {
   "cell_type": "code",
   "execution_count": null,
   "id": "7034fe3b",
   "metadata": {
    "scrolled": true
   },
   "outputs": [],
   "source": [
    "\"\"\"def convert(data):\n",
    "    number = preprocessing.LabelEncoder()\n",
    "    data['lyric'] = number.fit_transform(data.lyric)\n",
    "    #data['gen'] = number.fit_transform(data.gen)\n",
    "    data=data.fillna(-999)\n",
    "    return data\n",
    "\n",
    "lyric_train.column #= convert(lyric_train)\n",
    "#gen_train = convert(gen_train)\"\"\""
   ]
  },
  {
   "cell_type": "code",
   "execution_count": 74,
   "id": "a7425d3b",
   "metadata": {},
   "outputs": [],
   "source": [
    "pipeline_2 = Pipeline([\n",
    "    ('bow',CountVectorizer(analyzer=processamento_texto,encoding ='unicode')),\n",
    "    ('tfidf',TfidfTransformer()),\n",
    "    ('rf',RandomForestClassifier())\n",
    "])\n",
    "#train=convert(train)\n",
    "#test=convert(test)\n",
    "#pipeline_2.fit(lyric_train,gen_train)"
   ]
  },
  {
   "cell_type": "code",
   "execution_count": 75,
   "id": "31158481",
   "metadata": {},
   "outputs": [
    {
     "data": {
      "text/html": [
       "<style>#sk-container-id-3 {color: black;background-color: white;}#sk-container-id-3 pre{padding: 0;}#sk-container-id-3 div.sk-toggleable {background-color: white;}#sk-container-id-3 label.sk-toggleable__label {cursor: pointer;display: block;width: 100%;margin-bottom: 0;padding: 0.3em;box-sizing: border-box;text-align: center;}#sk-container-id-3 label.sk-toggleable__label-arrow:before {content: \"▸\";float: left;margin-right: 0.25em;color: #696969;}#sk-container-id-3 label.sk-toggleable__label-arrow:hover:before {color: black;}#sk-container-id-3 div.sk-estimator:hover label.sk-toggleable__label-arrow:before {color: black;}#sk-container-id-3 div.sk-toggleable__content {max-height: 0;max-width: 0;overflow: hidden;text-align: left;background-color: #f0f8ff;}#sk-container-id-3 div.sk-toggleable__content pre {margin: 0.2em;color: black;border-radius: 0.25em;background-color: #f0f8ff;}#sk-container-id-3 input.sk-toggleable__control:checked~div.sk-toggleable__content {max-height: 200px;max-width: 100%;overflow: auto;}#sk-container-id-3 input.sk-toggleable__control:checked~label.sk-toggleable__label-arrow:before {content: \"▾\";}#sk-container-id-3 div.sk-estimator input.sk-toggleable__control:checked~label.sk-toggleable__label {background-color: #d4ebff;}#sk-container-id-3 div.sk-label input.sk-toggleable__control:checked~label.sk-toggleable__label {background-color: #d4ebff;}#sk-container-id-3 input.sk-hidden--visually {border: 0;clip: rect(1px 1px 1px 1px);clip: rect(1px, 1px, 1px, 1px);height: 1px;margin: -1px;overflow: hidden;padding: 0;position: absolute;width: 1px;}#sk-container-id-3 div.sk-estimator {font-family: monospace;background-color: #f0f8ff;border: 1px dotted black;border-radius: 0.25em;box-sizing: border-box;margin-bottom: 0.5em;}#sk-container-id-3 div.sk-estimator:hover {background-color: #d4ebff;}#sk-container-id-3 div.sk-parallel-item::after {content: \"\";width: 100%;border-bottom: 1px solid gray;flex-grow: 1;}#sk-container-id-3 div.sk-label:hover label.sk-toggleable__label {background-color: #d4ebff;}#sk-container-id-3 div.sk-serial::before {content: \"\";position: absolute;border-left: 1px solid gray;box-sizing: border-box;top: 0;bottom: 0;left: 50%;z-index: 0;}#sk-container-id-3 div.sk-serial {display: flex;flex-direction: column;align-items: center;background-color: white;padding-right: 0.2em;padding-left: 0.2em;position: relative;}#sk-container-id-3 div.sk-item {position: relative;z-index: 1;}#sk-container-id-3 div.sk-parallel {display: flex;align-items: stretch;justify-content: center;background-color: white;position: relative;}#sk-container-id-3 div.sk-item::before, #sk-container-id-3 div.sk-parallel-item::before {content: \"\";position: absolute;border-left: 1px solid gray;box-sizing: border-box;top: 0;bottom: 0;left: 50%;z-index: -1;}#sk-container-id-3 div.sk-parallel-item {display: flex;flex-direction: column;z-index: 1;position: relative;background-color: white;}#sk-container-id-3 div.sk-parallel-item:first-child::after {align-self: flex-end;width: 50%;}#sk-container-id-3 div.sk-parallel-item:last-child::after {align-self: flex-start;width: 50%;}#sk-container-id-3 div.sk-parallel-item:only-child::after {width: 0;}#sk-container-id-3 div.sk-dashed-wrapped {border: 1px dashed gray;margin: 0 0.4em 0.5em 0.4em;box-sizing: border-box;padding-bottom: 0.4em;background-color: white;}#sk-container-id-3 div.sk-label label {font-family: monospace;font-weight: bold;display: inline-block;line-height: 1.2em;}#sk-container-id-3 div.sk-label-container {text-align: center;}#sk-container-id-3 div.sk-container {/* jupyter's `normalize.less` sets `[hidden] { display: none; }` but bootstrap.min.css set `[hidden] { display: none !important; }` so we also need the `!important` here to be able to override the default hidden behavior on the sphinx rendered scikit-learn.org. See: https://github.com/scikit-learn/scikit-learn/issues/21755 */display: inline-block !important;position: relative;}#sk-container-id-3 div.sk-text-repr-fallback {display: none;}</style><div id=\"sk-container-id-3\" class=\"sk-top-container\"><div class=\"sk-text-repr-fallback\"><pre>Pipeline(steps=[(&#x27;bow&#x27;,\n",
       "                 CountVectorizer(analyzer=&lt;function processamento_texto at 0x0000016E723D5870&gt;,\n",
       "                                 encoding=&#x27;unicode&#x27;)),\n",
       "                (&#x27;tfidf&#x27;, TfidfTransformer()),\n",
       "                (&#x27;rf&#x27;, RandomForestClassifier())])</pre><b>In a Jupyter environment, please rerun this cell to show the HTML representation or trust the notebook. <br />On GitHub, the HTML representation is unable to render, please try loading this page with nbviewer.org.</b></div><div class=\"sk-container\" hidden><div class=\"sk-item sk-dashed-wrapped\"><div class=\"sk-label-container\"><div class=\"sk-label sk-toggleable\"><input class=\"sk-toggleable__control sk-hidden--visually\" id=\"sk-estimator-id-9\" type=\"checkbox\" ><label for=\"sk-estimator-id-9\" class=\"sk-toggleable__label sk-toggleable__label-arrow\">Pipeline</label><div class=\"sk-toggleable__content\"><pre>Pipeline(steps=[(&#x27;bow&#x27;,\n",
       "                 CountVectorizer(analyzer=&lt;function processamento_texto at 0x0000016E723D5870&gt;,\n",
       "                                 encoding=&#x27;unicode&#x27;)),\n",
       "                (&#x27;tfidf&#x27;, TfidfTransformer()),\n",
       "                (&#x27;rf&#x27;, RandomForestClassifier())])</pre></div></div></div><div class=\"sk-serial\"><div class=\"sk-item\"><div class=\"sk-estimator sk-toggleable\"><input class=\"sk-toggleable__control sk-hidden--visually\" id=\"sk-estimator-id-10\" type=\"checkbox\" ><label for=\"sk-estimator-id-10\" class=\"sk-toggleable__label sk-toggleable__label-arrow\">CountVectorizer</label><div class=\"sk-toggleable__content\"><pre>CountVectorizer(analyzer=&lt;function processamento_texto at 0x0000016E723D5870&gt;,\n",
       "                encoding=&#x27;unicode&#x27;)</pre></div></div></div><div class=\"sk-item\"><div class=\"sk-estimator sk-toggleable\"><input class=\"sk-toggleable__control sk-hidden--visually\" id=\"sk-estimator-id-11\" type=\"checkbox\" ><label for=\"sk-estimator-id-11\" class=\"sk-toggleable__label sk-toggleable__label-arrow\">TfidfTransformer</label><div class=\"sk-toggleable__content\"><pre>TfidfTransformer()</pre></div></div></div><div class=\"sk-item\"><div class=\"sk-estimator sk-toggleable\"><input class=\"sk-toggleable__control sk-hidden--visually\" id=\"sk-estimator-id-12\" type=\"checkbox\" ><label for=\"sk-estimator-id-12\" class=\"sk-toggleable__label sk-toggleable__label-arrow\">RandomForestClassifier</label><div class=\"sk-toggleable__content\"><pre>RandomForestClassifier()</pre></div></div></div></div></div></div></div>"
      ],
      "text/plain": [
       "Pipeline(steps=[('bow',\n",
       "                 CountVectorizer(analyzer=<function processamento_texto at 0x0000016E723D5870>,\n",
       "                                 encoding='unicode')),\n",
       "                ('tfidf', TfidfTransformer()),\n",
       "                ('rf', RandomForestClassifier())])"
      ]
     },
     "execution_count": 75,
     "metadata": {},
     "output_type": "execute_result"
    }
   ],
   "source": [
    "pipeline_2.fit(lyric_train.values.astype('U'),gen_train.values.astype('U'))"
   ]
  },
  {
   "cell_type": "code",
   "execution_count": 76,
   "id": "ce3b8a04",
   "metadata": {},
   "outputs": [],
   "source": [
    "predictions_2 = pipeline_2.predict(lyric_test.values.astype('U'))"
   ]
  },
  {
   "cell_type": "code",
   "execution_count": 77,
   "id": "5fdee9ea",
   "metadata": {},
   "outputs": [
    {
     "name": "stderr",
     "output_type": "stream",
     "text": [
      "C:\\Users\\Lucas Araújo\\AppData\\Local\\Programs\\Python\\Python310\\lib\\site-packages\\sklearn\\metrics\\_classification.py:1334: UndefinedMetricWarning: Precision and F-score are ill-defined and being set to 0.0 in labels with no predicted samples. Use `zero_division` parameter to control this behavior.\n",
      "  _warn_prf(average, modifier, msg_start, len(result))\n"
     ]
    },
    {
     "name": "stdout",
     "output_type": "stream",
     "text": [
      "              precision    recall  f1-score   support\n",
      "\n",
      "         Axe       0.74      0.06      0.11       280\n",
      "  Bossa Nova       0.89      0.35      0.50      1802\n",
      "        Funk       0.93      0.15      0.26       328\n",
      "      Gospel       0.87      1.00      0.93     16353\n",
      "        Rock       0.00      0.00      0.00         3\n",
      "       Samba       0.81      0.13      0.22       959\n",
      "   Sertanejo       0.00      0.00      0.00         6\n",
      "\n",
      "    accuracy                           0.87     19731\n",
      "   macro avg       0.60      0.24      0.29     19731\n",
      "weighted avg       0.87      0.87      0.83     19731\n",
      "\n"
     ]
    },
    {
     "name": "stderr",
     "output_type": "stream",
     "text": [
      "C:\\Users\\Lucas Araújo\\AppData\\Local\\Programs\\Python\\Python310\\lib\\site-packages\\sklearn\\metrics\\_classification.py:1334: UndefinedMetricWarning: Precision and F-score are ill-defined and being set to 0.0 in labels with no predicted samples. Use `zero_division` parameter to control this behavior.\n",
      "  _warn_prf(average, modifier, msg_start, len(result))\n",
      "C:\\Users\\Lucas Araújo\\AppData\\Local\\Programs\\Python\\Python310\\lib\\site-packages\\sklearn\\metrics\\_classification.py:1334: UndefinedMetricWarning: Precision and F-score are ill-defined and being set to 0.0 in labels with no predicted samples. Use `zero_division` parameter to control this behavior.\n",
      "  _warn_prf(average, modifier, msg_start, len(result))\n"
     ]
    }
   ],
   "source": [
    "print(classification_report(gen_test,predictions_2))"
   ]
  },
  {
   "cell_type": "code",
   "execution_count": null,
   "id": "23bff173",
   "metadata": {},
   "outputs": [],
   "source": []
  }
 ],
 "metadata": {
  "kernelspec": {
   "display_name": "Python 3 (ipykernel)",
   "language": "python",
   "name": "python3"
  },
  "language_info": {
   "codemirror_mode": {
    "name": "ipython",
    "version": 3
   },
   "file_extension": ".py",
   "mimetype": "text/x-python",
   "name": "python",
   "nbconvert_exporter": "python",
   "pygments_lexer": "ipython3",
   "version": "3.10.4"
  }
 },
 "nbformat": 4,
 "nbformat_minor": 5
}
