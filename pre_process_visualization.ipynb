{
 "cells": [
  {
   "cell_type": "code",
   "execution_count": 1,
   "id": "fc065807",
   "metadata": {},
   "outputs": [],
   "source": [
    "import pandas as pd\n",
    "import numpy as np"
   ]
  },
  {
   "cell_type": "code",
   "execution_count": 2,
   "id": "1cf7cb51",
   "metadata": {},
   "outputs": [],
   "source": [
    "bossa = pd.read_csv('datasets/bossa_nova.csv')\n",
    "funk = pd.read_csv('datasets/funk.csv')\n",
    "gospel = pd.read_csv('datasets/gospel.csv')\n",
    "sertanejo = pd.read_csv('datasets/sertanejo.csv')\n",
    "rap = pd.read_csv('datasets/drake_data.csv')\n",
    "all_bossa_nova =  pd.read_csv('datasets/bossa_nova_songs_dataset.csv')\n",
    "rock_country_reb =  pd.read_csv('datasets/rock_country_R&B.csv')"
   ]
  },
  {
   "cell_type": "markdown",
   "id": "e1497972",
   "metadata": {},
   "source": [
    "Padronização dos datasets "
   ]
  },
  {
   "cell_type": "code",
   "execution_count": 98,
   "id": "5bb4247d",
   "metadata": {},
   "outputs": [],
   "source": [
    "rap_lyrics = pd.DataFrame(rap['lyrics'])  #OK\n",
    "rap_lyrics.rename(columns={'lyrics': 'lyric'}, inplace = True) #OK"
   ]
  },
  {
   "cell_type": "code",
   "execution_count": 99,
   "id": "93a8c6f2",
   "metadata": {},
   "outputs": [],
   "source": [
    "all_bossa = pd.DataFrame(all_bossa_nova['song_lyrics']) #OK\n",
    "all_bossa.rename(columns={'song_lyrics': 'lyric'}, inplace = True) #OK"
   ]
  },
  {
   "cell_type": "code",
   "execution_count": 100,
   "id": "a9081f75",
   "metadata": {},
   "outputs": [],
   "source": [
    "rock = pd.DataFrame(rock_country_reb['lyrics'].loc[(rock_country_reb['type'] == 'rock')]) #OK\n",
    "rock.rename(columns={'lyrics': 'lyric'}, inplace = True) #OK"
   ]
  },
  {
   "cell_type": "code",
   "execution_count": 101,
   "id": "a47d1bad",
   "metadata": {},
   "outputs": [],
   "source": [
    "country = pd.DataFrame(rock_country_reb['lyrics'].loc[(rock_country_reb['type'] == 'country')]) #OK\n",
    "country.rename(columns={'lyrics': 'lyric'}, inplace = True) #OK"
   ]
  },
  {
   "cell_type": "code",
   "execution_count": 102,
   "id": "c433b61b",
   "metadata": {},
   "outputs": [],
   "source": [
    "reb = pd.DataFrame(rock_country_reb['lyrics'].loc[(rock_country_reb['type'] == 'R&B')]) #OK\n",
    "reb.rename(columns={'lyrics': 'lyric'}, inplace = True) #OK"
   ]
  },
  {
   "cell_type": "markdown",
   "id": "846236d5",
   "metadata": {},
   "source": [
    "Criando a coluna correspondete ao genero"
   ]
  },
  {
   "cell_type": "code",
   "execution_count": 103,
   "id": "5388e1d7",
   "metadata": {},
   "outputs": [],
   "source": [
    "bossa['gen'] = 'Bossa Nova'\n",
    "funk['gen'] = 'Funk'\n",
    "gospel['gen'] = 'Gospel'\n",
    "sertanejo['gen'] = 'Sertanejo'\n",
    "rap_lyrics['gen'] = 'Rap'\n",
    "all_bossa['gen'] = 'Bossa Nova'\n",
    "rock['gen'] = 'Rock'\n",
    "country['gen'] = 'Sertanejo'\n",
    "reb['gen'] = 'R&B'"
   ]
  },
  {
   "cell_type": "code",
   "execution_count": 104,
   "id": "171d7661",
   "metadata": {},
   "outputs": [],
   "source": [
    "datasets = [bossa,funk,gospel,sertanejo,rap_lyrics,all_bossa,rock,country,reb]"
   ]
  },
  {
   "cell_type": "code",
   "execution_count": 105,
   "id": "4cb1cedd",
   "metadata": {},
   "outputs": [],
   "source": [
    "lyrics = pd.concat(datasets)"
   ]
  },
  {
   "cell_type": "code",
   "execution_count": 106,
   "id": "461bea2c",
   "metadata": {},
   "outputs": [
    {
     "data": {
      "text/html": [
       "<div>\n",
       "<style scoped>\n",
       "    .dataframe tbody tr th:only-of-type {\n",
       "        vertical-align: middle;\n",
       "    }\n",
       "\n",
       "    .dataframe tbody tr th {\n",
       "        vertical-align: top;\n",
       "    }\n",
       "\n",
       "    .dataframe thead th {\n",
       "        text-align: right;\n",
       "    }\n",
       "</style>\n",
       "<table border=\"1\" class=\"dataframe\">\n",
       "  <thead>\n",
       "    <tr style=\"text-align: right;\">\n",
       "      <th></th>\n",
       "      <th>lyric</th>\n",
       "      <th>gen</th>\n",
       "    </tr>\n",
       "  </thead>\n",
       "  <tbody>\n",
       "    <tr>\n",
       "      <th>0</th>\n",
       "      <td>\\r\\nEu sei que vou te amar\\r\\nPor toda a minh...</td>\n",
       "      <td>Bossa Nova</td>\n",
       "    </tr>\n",
       "    <tr>\n",
       "      <th>1</th>\n",
       "      <td>\\r\\nOlha que coisa mais linda\\r\\nMais cheia d...</td>\n",
       "      <td>Bossa Nova</td>\n",
       "    </tr>\n",
       "    <tr>\n",
       "      <th>2</th>\n",
       "      <td>\\r\\nEra uma casa\\r\\nMuito engraçada\\r\\nNão ti...</td>\n",
       "      <td>Bossa Nova</td>\n",
       "    </tr>\n",
       "    <tr>\n",
       "      <th>3</th>\n",
       "      <td>\\r\\nDe tudo, ao meu amor serei atento antes\\r...</td>\n",
       "      <td>Bossa Nova</td>\n",
       "    </tr>\n",
       "    <tr>\n",
       "      <th>4</th>\n",
       "      <td>\\r\\nQuando a luz dos olhos meus\\r\\nE a luz do...</td>\n",
       "      <td>Bossa Nova</td>\n",
       "    </tr>\n",
       "  </tbody>\n",
       "</table>\n",
       "</div>"
      ],
      "text/plain": [
       "                                               lyric         gen\n",
       "0   \\r\\nEu sei que vou te amar\\r\\nPor toda a minh...  Bossa Nova\n",
       "1   \\r\\nOlha que coisa mais linda\\r\\nMais cheia d...  Bossa Nova\n",
       "2   \\r\\nEra uma casa\\r\\nMuito engraçada\\r\\nNão ti...  Bossa Nova\n",
       "3   \\r\\nDe tudo, ao meu amor serei atento antes\\r...  Bossa Nova\n",
       "4   \\r\\nQuando a luz dos olhos meus\\r\\nE a luz do...  Bossa Nova"
      ]
     },
     "execution_count": 106,
     "metadata": {},
     "output_type": "execute_result"
    }
   ],
   "source": [
    "lyrics.reset_index(drop=True,inplace=True)\n",
    "lyrics.head()"
   ]
  },
  {
   "cell_type": "code",
   "execution_count": null,
   "id": "0a8ee83e",
   "metadata": {},
   "outputs": [],
   "source": []
  }
 ],
 "metadata": {
  "kernelspec": {
   "display_name": "Python 3 (ipykernel)",
   "language": "python",
   "name": "python3"
  },
  "language_info": {
   "codemirror_mode": {
    "name": "ipython",
    "version": 3
   },
   "file_extension": ".py",
   "mimetype": "text/x-python",
   "name": "python",
   "nbconvert_exporter": "python",
   "pygments_lexer": "ipython3",
   "version": "3.10.2"
  }
 },
 "nbformat": 4,
 "nbformat_minor": 5
}
