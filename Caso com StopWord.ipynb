{
 "cells": [
  {
   "cell_type": "markdown",
   "id": "8c938d73",
   "metadata": {},
   "source": [
    "Link dos datasets\n",
    "\n",
    "Samba: https://www.kaggle.com/datasets/clovesgtx/brazilian-music-samba-lyrics\n",
    "\n",
    "Gospel: https://raw.githubusercontent.com/damarals/letras/master/inst/csv/letras.csv\n",
    "\n",
    "Axe: https://www.kaggle.com/datasets/jorgefjr/brazilian-songs-lyrics\n",
    "\n",
    "Funk: https://www.kaggle.com/datasets/sleshes/funk-carioca-dataset\n",
    "\n",
    "Bossa Nova: https://www.kaggle.com/datasets/mcarujo/bossa-nova-lyrics\n",
    "\n",
    "Rock,Sertanejo, Samba2 = https://github.com/gabriellmd/data-frames-nlp"
   ]
  },
  {
   "cell_type": "code",
   "execution_count": 1,
   "id": "4fa8fdc9",
   "metadata": {},
   "outputs": [],
   "source": [
    "import pandas as pd\n",
    "import numpy as np\n",
    "import string\n",
    "from sklearn.model_selection import train_test_split\n",
    "from sklearn.pipeline import Pipeline\n",
    "from sklearn.feature_extraction.text import CountVectorizer\n",
    "from sklearn.feature_extraction.text import TfidfTransformer\n",
    "from sklearn.naive_bayes import MultinomialNB\n",
    "from sklearn.metrics import classification_report\n",
    "from sklearn.svm import SVC\n",
    "from sklearn.ensemble import RandomForestClassifier\n",
    "from sklearn.model_selection import cross_validate"
   ]
  },
  {
   "cell_type": "code",
   "execution_count": 2,
   "id": "4c49d35a",
   "metadata": {},
   "outputs": [],
   "source": [
    "bossa = pd.read_csv('datasets/bossa_nova_songs_dataset.csv')\n",
    "samba = pd.read_csv('datasets/samba_dataset.csv',sep='|')\n",
    "axe = pd.read_csv('datasets/letras_mus_br_axe.csv')\n",
    "funk = pd.read_csv('datasets/Dataset_funk_carioca.csv')\n",
    "gospel = pd.read_csv('datasets/gospel.csv') "
   ]
  },
  {
   "cell_type": "code",
   "execution_count": 3,
   "id": "a4b5d9ed",
   "metadata": {},
   "outputs": [],
   "source": [
    "gospel_ajustado = pd.DataFrame(gospel['letra'])  #OK 55000\n",
    "gospel_ajustado.rename(columns={'letra': 'lyric'}, inplace = True) #OK\n",
    "gospel_ajustado.drop(gospel_ajustado.tail(51498).index,inplace = True) #3000\n",
    "samba_ajustado = pd.DataFrame(samba['letra'])  #OK 3000\n",
    "samba_ajustado.rename(columns={'letra': 'lyric'}, inplace = True) #OK\n",
    "samba_ajustado.drop(samba_ajustado.tail(118).index,inplace = True) #3000\n",
    "axe_ajustado = pd.DataFrame(axe['letras'])  #OK1000\n",
    "axe_ajustado.rename(columns={'letras': 'lyric'}, inplace = True) #OK\n",
    "funk_ajustado = pd.DataFrame(funk['letra'])  #OK 1000\n",
    "funk_ajustado.rename(columns={'letra': 'lyric'}, inplace = True) #OK\n",
    "bossa_ajustado = pd.DataFrame(bossa['song_lyrics'])  #OK 6000\n",
    "bossa_ajustado.rename(columns={'song_lyrics': 'lyric'}, inplace = True) #OK\n",
    "bossa_ajustado.drop(bossa_ajustado.tail(3106).index,inplace = True) #3000"
   ]
  },
  {
   "cell_type": "code",
   "execution_count": 4,
   "id": "1b8f22a0",
   "metadata": {},
   "outputs": [],
   "source": [
    "bossa_ajustado['gen'] = 'Bossa Nova'\n",
    "funk_ajustado['gen'] = 'Funk'\n",
    "gospel_ajustado['gen'] = 'Gospel'\n",
    "axe_ajustado['gen'] = 'Axe'\n",
    "samba_ajustado['gen'] = 'Samba'"
   ]
  },
  {
   "cell_type": "code",
   "execution_count": 5,
   "id": "a28bfd98",
   "metadata": {},
   "outputs": [],
   "source": [
    "datasets = [bossa_ajustado,funk_ajustado,bossa_ajustado,axe_ajustado,samba_ajustado]"
   ]
  },
  {
   "cell_type": "code",
   "execution_count": 6,
   "id": "eec2014f",
   "metadata": {},
   "outputs": [
    {
     "data": {
      "text/html": [
       "<div>\n",
       "<style scoped>\n",
       "    .dataframe tbody tr th:only-of-type {\n",
       "        vertical-align: middle;\n",
       "    }\n",
       "\n",
       "    .dataframe tbody tr th {\n",
       "        vertical-align: top;\n",
       "    }\n",
       "\n",
       "    .dataframe thead th {\n",
       "        text-align: right;\n",
       "    }\n",
       "</style>\n",
       "<table border=\"1\" class=\"dataframe\">\n",
       "  <thead>\n",
       "    <tr style=\"text-align: right;\">\n",
       "      <th></th>\n",
       "      <th>lyric</th>\n",
       "      <th>gen</th>\n",
       "    </tr>\n",
       "  </thead>\n",
       "  <tbody>\n",
       "    <tr>\n",
       "      <th>0</th>\n",
       "      <td>De tudo, ao meu amor serei atento antes E co...</td>\n",
       "      <td>Bossa Nova</td>\n",
       "    </tr>\n",
       "    <tr>\n",
       "      <th>1</th>\n",
       "      <td>Era uma casa Muito engraçada Não tinha teto ...</td>\n",
       "      <td>Bossa Nova</td>\n",
       "    </tr>\n",
       "    <tr>\n",
       "      <th>2</th>\n",
       "      <td>E por falar em saudade Onde anda você Onde a...</td>\n",
       "      <td>Bossa Nova</td>\n",
       "    </tr>\n",
       "    <tr>\n",
       "      <th>3</th>\n",
       "      <td>Filhos... Filhos? Melhor não tê-los! Mas se ...</td>\n",
       "      <td>Bossa Nova</td>\n",
       "    </tr>\n",
       "    <tr>\n",
       "      <th>4</th>\n",
       "      <td>É melhor ser alegre que ser triste Alegria é...</td>\n",
       "      <td>Bossa Nova</td>\n",
       "    </tr>\n",
       "    <tr>\n",
       "      <th>...</th>\n",
       "      <td>...</td>\n",
       "      <td>...</td>\n",
       "    </tr>\n",
       "    <tr>\n",
       "      <th>10995</th>\n",
       "      <td>( Não tenho lar Não tenho amor Pra que vou me ...</td>\n",
       "      <td>Samba</td>\n",
       "    </tr>\n",
       "    <tr>\n",
       "      <th>10996</th>\n",
       "      <td>o  Senhor é a minha forçao meu escudo...minha ...</td>\n",
       "      <td>Samba</td>\n",
       "    </tr>\n",
       "    <tr>\n",
       "      <th>10997</th>\n",
       "      <td>Sorte é sorte o malandro também tem seu dia d...</td>\n",
       "      <td>Samba</td>\n",
       "    </tr>\n",
       "    <tr>\n",
       "      <th>10998</th>\n",
       "      <td>A gente briga sem querer Chora \"prá\" voltar F...</td>\n",
       "      <td>Samba</td>\n",
       "    </tr>\n",
       "    <tr>\n",
       "      <th>10999</th>\n",
       "      <td>Aprendeu-se a liberdade Combatendo em  Guarar...</td>\n",
       "      <td>Samba</td>\n",
       "    </tr>\n",
       "  </tbody>\n",
       "</table>\n",
       "<p>11000 rows × 2 columns</p>\n",
       "</div>"
      ],
      "text/plain": [
       "                                                   lyric         gen\n",
       "0        De tudo, ao meu amor serei atento antes E co...  Bossa Nova\n",
       "1        Era uma casa Muito engraçada Não tinha teto ...  Bossa Nova\n",
       "2        E por falar em saudade Onde anda você Onde a...  Bossa Nova\n",
       "3        Filhos... Filhos? Melhor não tê-los! Mas se ...  Bossa Nova\n",
       "4        É melhor ser alegre que ser triste Alegria é...  Bossa Nova\n",
       "...                                                  ...         ...\n",
       "10995  ( Não tenho lar Não tenho amor Pra que vou me ...       Samba\n",
       "10996  o  Senhor é a minha forçao meu escudo...minha ...       Samba\n",
       "10997   Sorte é sorte o malandro também tem seu dia d...       Samba\n",
       "10998   A gente briga sem querer Chora \"prá\" voltar F...       Samba\n",
       "10999   Aprendeu-se a liberdade Combatendo em  Guarar...       Samba\n",
       "\n",
       "[11000 rows x 2 columns]"
      ]
     },
     "execution_count": 6,
     "metadata": {},
     "output_type": "execute_result"
    }
   ],
   "source": [
    "lyrics = pd.concat(datasets)\n",
    "lyrics.reset_index(drop=True,inplace=True)\n",
    "lyrics"
   ]
  },
  {
   "cell_type": "code",
   "execution_count": 7,
   "id": "6b04f25e",
   "metadata": {},
   "outputs": [
    {
     "name": "stderr",
     "output_type": "stream",
     "text": [
      "[nltk_data] Downloading package stopwords to\n",
      "[nltk_data]     C:\\Users\\luizm\\AppData\\Roaming\\nltk_data...\n",
      "[nltk_data]   Unzipping corpora\\stopwords.zip.\n"
     ]
    }
   ],
   "source": [
    "import nltk\n",
    "from nltk.corpus import stopwords\n",
    "nltk.download('stopwords')\n",
    "def processamento_texto(txt):\n",
    "    # remover quebras de linha\n",
    "    txt = txt.replace('\\n',' ')\n",
    "    # remover símbolos de pontuação, resultando em um array de caracteres\n",
    "    txt = [char for char in txt if char not in string.punctuation]\n",
    "    # depois, juntar os caracteres em palavras novamente e separá-los em uma lista de tokens\n",
    "    txt = ''.join(txt).split()\n",
    "    # por fim, remover as stopwords da lista\n",
    "    stop_words = set(stopwords.words('portuguese'))\n",
    "    txt = [word for word in txt if word.lower() not in stop_words]\n",
    "    \n",
    "    return txt"
   ]
  },
  {
   "cell_type": "code",
   "execution_count": 8,
   "id": "019c9eff",
   "metadata": {},
   "outputs": [],
   "source": [
    "alg ={'SVM':{\n",
    "    'fit_time':np.array([]),\n",
    "    'score_time':np.array([]),\n",
    "    'test_accuracy':np.array([]),\n",
    "    'test_f1_score':np.array([]),\n",
    "},\n",
    "     'RF':{\n",
    "    'fit_time':np.array([]),\n",
    "    'score_time':np.array([]),\n",
    "    'test_accuracy':np.array([]),\n",
    "    'test_f1_score':np.array([]),\n",
    "},\n",
    "     'NB':{\n",
    "    'fit_time':np.array([]),\n",
    "    'score_time':np.array([]),\n",
    "    'test_accuracy':np.array([]),\n",
    "    'test_f1_score':np.array([]),\n",
    "} }"
   ]
  },
  {
   "cell_type": "code",
   "execution_count": 9,
   "id": "9336501d",
   "metadata": {},
   "outputs": [],
   "source": [
    "for count in range(5):\n",
    "    #aleatorio\n",
    "    lyric_train,lyric_test,gen_train,gen_test = train_test_split(lyrics['lyric'],lyrics['gen'],test_size=0.3)\n",
    "    #dados SVC\n",
    "    pipeline_svc = Pipeline([\n",
    "    ('bow',CountVectorizer(analyzer=processamento_texto,encoding ='unicode')),\n",
    "    ('tfidf',TfidfTransformer()),\n",
    "    ('svc',SVC())\n",
    "    ])\n",
    "    #dados NB\n",
    "    pipeline_nb = Pipeline([\n",
    "    ('bow',CountVectorizer(analyzer=processamento_texto,encoding ='unicode')),\n",
    "    ('tfidf',TfidfTransformer()),\n",
    "    ('nb',MultinomialNB())\n",
    "    ])\n",
    "    #dadps RF\n",
    "    pipeline_rf = Pipeline([\n",
    "    ('bow',CountVectorizer(analyzer=processamento_texto,encoding ='unicode')),\n",
    "    ('tfidf',TfidfTransformer()),\n",
    "    ('rf',RandomForestClassifier())\n",
    "    ])\n",
    "    \n",
    "    #Etapa de Fit\n",
    "    pipeline_svc.fit(lyric_train.values.astype('U'),gen_train.values.astype('U'))\n",
    "    pipeline_nb.fit(lyric_train.values.astype('U'),gen_train.values.astype('U'))\n",
    "    pipeline_rf.fit(lyric_train.values.astype('U'),gen_train.values.astype('U'))\n",
    "    \n",
    "    #Etapa 10-fold cross validation\n",
    "    scoring = {'accuracy' : 'accuracy', 'f1_score' : 'f1_micro'}\n",
    "    scores_svm = cross_validate(pipeline_svc,lyrics['lyric'].values.astype('U'),lyrics['gen'].values.astype('U'),cv=10,scoring=scoring)\n",
    "    scores_nb = cross_validate(pipeline_nb,lyrics['lyric'].values.astype('U'),lyrics['gen'].values.astype('U'),cv=10,scoring=scoring)\n",
    "    scores_rf = cross_validate(pipeline_rf,lyrics['lyric'].values.astype('U'),lyrics['gen'].values.astype('U'),cv=10,scoring=scoring)\n",
    "    \n",
    "    #Aninhamento de médias\n",
    "    #SVM\n",
    "    alg['SVM']['fit_time'] = np.append(alg['SVM']['fit_time'], scores_svm['fit_time'].mean())\n",
    "    alg['SVM']['score_time'] = np.append(alg['SVM']['score_time'], scores_svm['score_time'].mean())\n",
    "    alg['SVM']['test_accuracy'] = np.append(alg['SVM']['test_accuracy'], scores_svm['test_accuracy'].mean())\n",
    "    alg['SVM']['test_f1_score'] = np.append(alg['SVM']['test_f1_score'], scores_svm['test_f1_score'].mean())\n",
    "    #NB\n",
    "    alg['NB']['fit_time'] = np.append(alg['NB']['fit_time'], scores_nb['fit_time'].mean())\n",
    "    alg['NB']['score_time'] = np.append(alg['NB']['score_time'], scores_nb['score_time'].mean())\n",
    "    alg['NB']['test_accuracy'] = np.append(alg['NB']['test_accuracy'], scores_nb['test_accuracy'].mean())\n",
    "    alg['NB']['test_f1_score'] = np.append(alg['NB']['test_f1_score'], scores_nb['test_f1_score'].mean())\n",
    "    #RF\n",
    "    alg['RF']['fit_time'] = np.append(alg['RF']['fit_time'], scores_rf['fit_time'].mean())\n",
    "    alg['RF']['score_time'] = np.append(alg['RF']['score_time'], scores_rf['score_time'].mean())\n",
    "    alg['RF']['test_accuracy'] = np.append(alg['RF']['test_accuracy'], scores_rf['test_accuracy'].mean())\n",
    "    alg['RF']['test_f1_score'] = np.append(alg['RF']['test_f1_score'], scores_rf['test_f1_score'].mean())\n",
    "    "
   ]
  },
  {
   "cell_type": "code",
   "execution_count": 10,
   "id": "6527c2d7",
   "metadata": {},
   "outputs": [
    {
     "data": {
      "text/plain": [
       "{'SVM': {'fit_time': array([63.40659552, 68.26718943, 80.63585455, 82.95941417, 76.05760345]),\n",
       "  'score_time': array([4.6306937 , 4.82047853, 5.93956609, 5.69456146, 5.5537291 ]),\n",
       "  'test_accuracy': array([0.81836364, 0.81836364, 0.81836364, 0.81836364, 0.81836364]),\n",
       "  'test_f1_score': array([0.81836364, 0.81836364, 0.81836364, 0.81836364, 0.81836364])},\n",
       " 'RF': {'fit_time': array([ 80.5025362 ,  93.93789074, 127.32757909, 115.77318292,\n",
       "          75.92620566]),\n",
       "  'score_time': array([0.55921764, 0.67920344, 0.96388557, 0.91172929, 0.54090211]),\n",
       "  'test_accuracy': array([0.782     , 0.783     , 0.78327273, 0.78172727, 0.78272727]),\n",
       "  'test_f1_score': array([0.782     , 0.783     , 0.78327273, 0.78172727, 0.78272727])},\n",
       " 'NB': {'fit_time': array([4.41513555, 4.36717045, 7.76524131, 5.0704335 , 4.71662078]),\n",
       "  'score_time': array([0.48115597, 0.47341809, 0.91946478, 0.54768081, 0.51051793]),\n",
       "  'test_accuracy': array([0.61063636, 0.61063636, 0.61063636, 0.61063636, 0.61063636]),\n",
       "  'test_f1_score': array([0.61063636, 0.61063636, 0.61063636, 0.61063636, 0.61063636])}}"
      ]
     },
     "execution_count": 10,
     "metadata": {},
     "output_type": "execute_result"
    }
   ],
   "source": [
    "alg"
   ]
  },
  {
   "cell_type": "code",
   "execution_count": 37,
   "id": "6b44e352",
   "metadata": {},
   "outputs": [],
   "source": [
    "alg_media_final ={'SVM':{\n",
    "    'fit_time': alg['SVM']['fit_time'].mean(),\n",
    "    'score_time':alg['SVM']['score_time'].mean(),\n",
    "    'test_accuracy':alg['SVM']['test_accuracy'].mean(),\n",
    "    'test_f1_score':alg['SVM']['test_f1_score'].mean(),\n",
    "},\n",
    "     'RF':{\n",
    "    'fit_time': alg['RF']['fit_time'].mean(),\n",
    "    'score_time':alg['RF']['score_time'].mean(),\n",
    "    'test_accuracy':alg['RF']['test_accuracy'].mean(),\n",
    "    'test_f1_score':alg['RF']['test_f1_score'].mean(),\n",
    "},\n",
    "     'NB':{\n",
    "    'fit_time': alg['NB']['fit_time'].mean(),\n",
    "    'score_time':alg['NB']['score_time'].mean(),\n",
    "    'test_accuracy':alg['NB']['test_accuracy'].mean(),\n",
    "    'test_f1_score':alg['NB']['test_f1_score'].mean(),\n",
    "} }"
   ]
  },
  {
   "cell_type": "code",
   "execution_count": 38,
   "id": "2756ffee",
   "metadata": {},
   "outputs": [],
   "source": [
    "alg_media_final['SVM']['execution_time'] = alg_media_final['SVM']['fit_time'] + alg_media_final['SVM']['score_time']\n",
    "alg_media_final['RF']['execution_time'] = alg_media_final['RF']['fit_time'] + alg_media_final['RF']['score_time']\n",
    "alg_media_final['NB']['execution_time'] = alg_media_final['NB']['fit_time'] + alg_media_final['NB']['score_time']"
   ]
  },
  {
   "cell_type": "code",
   "execution_count": 39,
   "id": "878aa1b8",
   "metadata": {
    "scrolled": false
   },
   "outputs": [
    {
     "data": {
      "text/plain": [
       "{'SVM': {'fit_time': 74.26533142566682,\n",
       "  'score_time': 5.327805776596069,\n",
       "  'test_accuracy': 0.8183636363636364,\n",
       "  'test_f1_score': 0.8183636363636364,\n",
       "  'execution_time': 79.59313720226288},\n",
       " 'RF': {'fit_time': 98.69347892284392,\n",
       "  'score_time': 0.7309876108169555,\n",
       "  'test_accuracy': 0.7825454545454545,\n",
       "  'test_f1_score': 0.7825454545454545,\n",
       "  'execution_time': 99.42446653366088},\n",
       " 'NB': {'fit_time': 5.266920318603516,\n",
       "  'score_time': 0.5864475154876708,\n",
       "  'test_accuracy': 0.6106363636363638,\n",
       "  'test_f1_score': 0.6106363636363638,\n",
       "  'execution_time': 5.853367834091187}}"
      ]
     },
     "execution_count": 39,
     "metadata": {},
     "output_type": "execute_result"
    }
   ],
   "source": [
    "alg_media_final"
   ]
  },
  {
   "cell_type": "code",
   "execution_count": 93,
   "id": "ef18d055",
   "metadata": {},
   "outputs": [],
   "source": [
    "import matplotlib.pyplot as plt"
   ]
  },
  {
   "cell_type": "code",
   "execution_count": 89,
   "id": "1a21ce08",
   "metadata": {},
   "outputs": [
    {
     "data": {
      "image/png": "[encoded data removed]",
      "text/plain": [
       "<Figure size 640x480 with 1 Axes>"
      ]
     },
     "metadata": {},
     "output_type": "display_data"
    }
   ],
   "source": [
    "N = 3\n",
    "ind = np.arange(N)  # the x locations for the groups\n",
    "width = 0.27      # the width of the bars\n",
    "\n",
    "fig = plt.figure()\n",
    "ax = fig.add_subplot()\n",
    "\n",
    "yvals = [alg_media_final['SVM']['score_time'], alg_media_final['SVM']['fit_time'], alg_media_final['SVM']['execution_time']]\n",
    "rects1 = ax.bar(ind, yvals, width, color='r')\n",
    "zvals = [alg_media_final['RF']['score_time'], alg_media_final['RF']['fit_time'], alg_media_final['RF']['execution_time']]\n",
    "rects2 = ax.bar(ind+width, zvals, width, color='g')\n",
    "kvals = [alg_media_final['NB']['score_time'], alg_media_final['NB']['fit_time'], alg_media_final['NB']['execution_time']]\n",
    "rects3 = ax.bar(ind+width*2, kvals, width, color='b')\n",
    "\n",
    "ax.set_ylabel('Time (s)')\n",
    "ax.set_xticks(ind+width)\n",
    "ax.set_xticklabels( ('Score', 'Fit', 'Execution') )\n",
    "ax.legend( (rects1[0], rects2[0], rects3[0]), ('SVM', 'RF', 'NB') )\n",
    "\n",
    "def autolabel(rects):\n",
    "    for rect in rects:\n",
    "        h = rect.get_height()\n",
    "        ax.text(rect.get_x()+rect.get_width()/2., h+1, '%.2f'%h,\n",
    "                ha='center')\n",
    "\n",
    "autolabel(rects1)\n",
    "autolabel(rects2)\n",
    "autolabel(rects3)\n",
    "\n",
    "plt.show()"
   ]
  },
  {
   "cell_type": "code",
   "execution_count": 90,
   "id": "c10af433",
   "metadata": {},
   "outputs": [
    {
     "data": {
      "image/png": "[encoded data removed]",
      "text/plain": [
       "<Figure size 640x480 with 1 Axes>"
      ]
     },
     "metadata": {},
     "output_type": "display_data"
    }
   ],
   "source": [
    "N = 2\n",
    "ind = np.arange(N)  # the x locations for the groups\n",
    "width = 0.20      # the width of the bars\n",
    "\n",
    "fig = plt.figure()\n",
    "ax = fig.add_subplot()\n",
    "\n",
    "yvals = [alg_media_final['SVM']['test_accuracy']*100, alg_media_final['SVM']['test_f1_score']*100]\n",
    "rects1 = ax.bar(ind, yvals, width, color='r')\n",
    "zvals = [alg_media_final['RF']['test_accuracy']*100, alg_media_final['RF']['test_f1_score']*100]\n",
    "rects2 = ax.bar(ind+width, zvals, width, color='g')\n",
    "kvals = [alg_media_final['NB']['test_accuracy']*100, alg_media_final['NB']['test_f1_score']*100]\n",
    "rects3 = ax.bar(ind+width*2, kvals, width, color='b')\n",
    "\n",
    "ax.set_ylabel('Score (%)')\n",
    "ax.set_xticks(ind+width)\n",
    "ax.set_xticklabels( ('Accuracy', 'F1_Score') )\n",
    "ax.legend( (rects1[0], rects2[0], rects3[0]), ('SVM', 'RF', 'NB') )\n",
    "\n",
    "def autolabel(rects):\n",
    "    for rect in rects:\n",
    "        h = rect.get_height()\n",
    "        ax.text(rect.get_x()+rect.get_width()/2., h+1, '%.2f'%h,\n",
    "                ha='center')\n",
    "\n",
    "autolabel(rects1)\n",
    "autolabel(rects2)\n",
    "autolabel(rects3)\n",
    "\n",
    "plt.show()"
   ]
  },
  {
   "cell_type": "code",
   "execution_count": null,
   "id": "30a96196",
   "metadata": {},
   "outputs": [],
   "source": []
  }
 ],
 "metadata": {
  "kernelspec": {
   "display_name": "Python 3 (ipykernel)",
   "language": "python",
   "name": "python3"
  },
  "language_info": {
   "codemirror_mode": {
    "name": "ipython",
    "version": 3
   },
   "file_extension": ".py",
   "mimetype": "text/x-python",
   "name": "python",
   "nbconvert_exporter": "python",
   "pygments_lexer": "ipython3",
   "version": "3.10.7"
  }
 },
 "nbformat": 4,
 "nbformat_minor": 5
}
