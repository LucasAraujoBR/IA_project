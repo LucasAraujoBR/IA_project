{
 "cells": [
  {
   "cell_type": "markdown",
   "id": "f839a700",
   "metadata": {},
   "source": [
    "Link dos datasets\n",
    "\n",
    "Samba: https://www.kaggle.com/datasets/clovesgtx/brazilian-music-samba-lyrics\n",
    "\n",
    "Gospel: https://raw.githubusercontent.com/damarals/letras/master/inst/csv/letras.csv\n",
    "\n",
    "Axe: https://www.kaggle.com/datasets/jorgefjr/brazilian-songs-lyrics\n",
    "\n",
    "Funk: https://www.kaggle.com/datasets/sleshes/funk-carioca-dataset\n",
    "\n",
    "Bossa Nova: https://www.kaggle.com/datasets/mcarujo/bossa-nova-lyrics\n",
    "\n",
    "Rock,Sertanejo, Samba2 = https://github.com/gabriellmd/data-frames-nlp"
   ]
  },
  {
   "cell_type": "code",
   "execution_count": 2,
   "id": "10778778",
   "metadata": {},
   "outputs": [],
   "source": [
    "import pandas as pd\n",
    "import numpy as np\n",
    "import string\n",
    "from sklearn.model_selection import train_test_split\n",
    "from sklearn.pipeline import Pipeline\n",
    "from sklearn.feature_extraction.text import CountVectorizer\n",
    "from sklearn.feature_extraction.text import TfidfTransformer\n",
    "from sklearn.naive_bayes import MultinomialNB\n",
    "from sklearn.metrics import classification_report\n",
    "from sklearn.svm import SVC\n",
    "from sklearn.ensemble import RandomForestClassifier\n",
    "from sklearn.model_selection import cross_validate"
   ]
  },
  {
   "cell_type": "code",
   "execution_count": 3,
   "id": "1df1e174",
   "metadata": {},
   "outputs": [],
   "source": [
    "bossa = pd.read_csv('datasets/bossa_nova_songs_dataset.csv')\n",
    "samba = pd.read_csv('datasets/samba_dataset.csv',sep='|')\n",
    "axe = pd.read_csv('datasets/letras_mus_br_axe.csv')\n",
    "funk = pd.read_csv('datasets/Dataset_funk_carioca.csv')\n",
    "gospel = pd.read_csv('datasets/gospel.csv') "
   ]
  },
  {
   "cell_type": "code",
   "execution_count": 4,
   "id": "517c6c09",
   "metadata": {},
   "outputs": [],
   "source": [
    "gospel_ajustado = pd.DataFrame(gospel['letra'])  #OK 55000\n",
    "gospel_ajustado.rename(columns={'letra': 'lyric'}, inplace = True) #OK\n",
    "gospel_ajustado.drop(gospel_ajustado.tail(51498).index,inplace = True) #3000\n",
    "samba_ajustado = pd.DataFrame(samba['letra'])  #OK 3000\n",
    "samba_ajustado.rename(columns={'letra': 'lyric'}, inplace = True) #OK\n",
    "samba_ajustado.drop(samba_ajustado.tail(118).index,inplace = True) #3000\n",
    "axe_ajustado = pd.DataFrame(axe['letras'])  #OK1000\n",
    "axe_ajustado.rename(columns={'letras': 'lyric'}, inplace = True) #OK\n",
    "funk_ajustado = pd.DataFrame(funk['letra'])  #OK 1000\n",
    "funk_ajustado.rename(columns={'letra': 'lyric'}, inplace = True) #OK\n",
    "bossa_ajustado = pd.DataFrame(bossa['song_lyrics'])  #OK 6000\n",
    "bossa_ajustado.rename(columns={'song_lyrics': 'lyric'}, inplace = True) #OK\n",
    "bossa_ajustado.drop(bossa_ajustado.tail(3106).index,inplace = True) #3000"
   ]
  },
  {
   "cell_type": "code",
   "execution_count": 5,
   "id": "6ba233b8",
   "metadata": {},
   "outputs": [],
   "source": [
    "bossa_ajustado['gen'] = 'Bossa Nova'\n",
    "funk_ajustado['gen'] = 'Funk'\n",
    "gospel_ajustado['gen'] = 'Gospel'\n",
    "axe_ajustado['gen'] = 'Axe'\n",
    "samba_ajustado['gen'] = 'Samba'"
   ]
  },
  {
   "cell_type": "code",
   "execution_count": 6,
   "id": "39c5af95",
   "metadata": {},
   "outputs": [],
   "source": [
    "datasets = [bossa_ajustado,funk_ajustado,bossa_ajustado,axe_ajustado,samba_ajustado]"
   ]
  },
  {
   "cell_type": "code",
   "execution_count": 7,
   "id": "1413bfa0",
   "metadata": {},
   "outputs": [
    {
     "data": {
      "text/html": [
       "<div>\n",
       "<style scoped>\n",
       "    .dataframe tbody tr th:only-of-type {\n",
       "        vertical-align: middle;\n",
       "    }\n",
       "\n",
       "    .dataframe tbody tr th {\n",
       "        vertical-align: top;\n",
       "    }\n",
       "\n",
       "    .dataframe thead th {\n",
       "        text-align: right;\n",
       "    }\n",
       "</style>\n",
       "<table border=\"1\" class=\"dataframe\">\n",
       "  <thead>\n",
       "    <tr style=\"text-align: right;\">\n",
       "      <th></th>\n",
       "      <th>lyric</th>\n",
       "      <th>gen</th>\n",
       "    </tr>\n",
       "  </thead>\n",
       "  <tbody>\n",
       "    <tr>\n",
       "      <th>0</th>\n",
       "      <td>De tudo, ao meu amor serei atento antes E co...</td>\n",
       "      <td>Bossa Nova</td>\n",
       "    </tr>\n",
       "    <tr>\n",
       "      <th>1</th>\n",
       "      <td>Era uma casa Muito engraçada Não tinha teto ...</td>\n",
       "      <td>Bossa Nova</td>\n",
       "    </tr>\n",
       "    <tr>\n",
       "      <th>2</th>\n",
       "      <td>E por falar em saudade Onde anda você Onde a...</td>\n",
       "      <td>Bossa Nova</td>\n",
       "    </tr>\n",
       "    <tr>\n",
       "      <th>3</th>\n",
       "      <td>Filhos... Filhos? Melhor não tê-los! Mas se ...</td>\n",
       "      <td>Bossa Nova</td>\n",
       "    </tr>\n",
       "    <tr>\n",
       "      <th>4</th>\n",
       "      <td>É melhor ser alegre que ser triste Alegria é...</td>\n",
       "      <td>Bossa Nova</td>\n",
       "    </tr>\n",
       "    <tr>\n",
       "      <th>...</th>\n",
       "      <td>...</td>\n",
       "      <td>...</td>\n",
       "    </tr>\n",
       "    <tr>\n",
       "      <th>10995</th>\n",
       "      <td>( Não tenho lar Não tenho amor Pra que vou me ...</td>\n",
       "      <td>Samba</td>\n",
       "    </tr>\n",
       "    <tr>\n",
       "      <th>10996</th>\n",
       "      <td>o  Senhor é a minha forçao meu escudo...minha ...</td>\n",
       "      <td>Samba</td>\n",
       "    </tr>\n",
       "    <tr>\n",
       "      <th>10997</th>\n",
       "      <td>Sorte é sorte o malandro também tem seu dia d...</td>\n",
       "      <td>Samba</td>\n",
       "    </tr>\n",
       "    <tr>\n",
       "      <th>10998</th>\n",
       "      <td>A gente briga sem querer Chora \"prá\" voltar F...</td>\n",
       "      <td>Samba</td>\n",
       "    </tr>\n",
       "    <tr>\n",
       "      <th>10999</th>\n",
       "      <td>Aprendeu-se a liberdade Combatendo em  Guarar...</td>\n",
       "      <td>Samba</td>\n",
       "    </tr>\n",
       "  </tbody>\n",
       "</table>\n",
       "<p>11000 rows × 2 columns</p>\n",
       "</div>"
      ],
      "text/plain": [
       "                                                   lyric         gen\n",
       "0        De tudo, ao meu amor serei atento antes E co...  Bossa Nova\n",
       "1        Era uma casa Muito engraçada Não tinha teto ...  Bossa Nova\n",
       "2        E por falar em saudade Onde anda você Onde a...  Bossa Nova\n",
       "3        Filhos... Filhos? Melhor não tê-los! Mas se ...  Bossa Nova\n",
       "4        É melhor ser alegre que ser triste Alegria é...  Bossa Nova\n",
       "...                                                  ...         ...\n",
       "10995  ( Não tenho lar Não tenho amor Pra que vou me ...       Samba\n",
       "10996  o  Senhor é a minha forçao meu escudo...minha ...       Samba\n",
       "10997   Sorte é sorte o malandro também tem seu dia d...       Samba\n",
       "10998   A gente briga sem querer Chora \"prá\" voltar F...       Samba\n",
       "10999   Aprendeu-se a liberdade Combatendo em  Guarar...       Samba\n",
       "\n",
       "[11000 rows x 2 columns]"
      ]
     },
     "execution_count": 7,
     "metadata": {},
     "output_type": "execute_result"
    }
   ],
   "source": [
    "lyrics = pd.concat(datasets)\n",
    "lyrics.reset_index(drop=True,inplace=True)\n",
    "lyrics"
   ]
  },
  {
   "cell_type": "code",
   "execution_count": 8,
   "id": "929f8dda",
   "metadata": {},
   "outputs": [],
   "source": [
    "def processamento_texto(txt):\n",
    "    # remover quebras de linha\n",
    "    txt = txt.replace('\\n',' ')\n",
    "    # remover símbolos de pontuação, resultando em um array de caracteres\n",
    "    txt = [char for char in txt if char not in string.punctuation]\n",
    "    # depois, juntar os caracteres em palavras novamente e separá-los em uma lista de tokens\n",
    "    txt = ''.join(txt).split()\n",
    "    # por fim, remover as stopwords da lista\n",
    "    #txt = [word for word in txt if word.lower() not in stopwords.words('portuguese')]\n",
    "    \n",
    "    return txt"
   ]
  },
  {
   "cell_type": "code",
   "execution_count": 9,
   "id": "8963a2ec",
   "metadata": {},
   "outputs": [],
   "source": [
    "alg ={'SVM':{\n",
    "    'fit_time':np.array([]),\n",
    "    'score_time':np.array([]),\n",
    "    'test_accuracy':np.array([]),\n",
    "    'test_f1_score':np.array([]),\n",
    "},\n",
    "     'RF':{\n",
    "    'fit_time':np.array([]),\n",
    "    'score_time':np.array([]),\n",
    "    'test_accuracy':np.array([]),\n",
    "    'test_f1_score':np.array([]),\n",
    "},\n",
    "     'NB':{\n",
    "    'fit_time':np.array([]),\n",
    "    'score_time':np.array([]),\n",
    "    'test_accuracy':np.array([]),\n",
    "    'test_f1_score':np.array([]),\n",
    "} }"
   ]
  },
  {
   "cell_type": "code",
   "execution_count": 10,
   "id": "33322515",
   "metadata": {},
   "outputs": [],
   "source": [
    "for count in range(5):\n",
    "    #aleatorio\n",
    "    lyric_train,lyric_test,gen_train,gen_test = train_test_split(lyrics['lyric'],lyrics['gen'],test_size=0.3)\n",
    "    #dados SVC\n",
    "    pipeline_svc = Pipeline([\n",
    "    ('bow',CountVectorizer(analyzer=processamento_texto,encoding ='unicode')),\n",
    "    ('tfidf',TfidfTransformer()),\n",
    "    ('svc',SVC())\n",
    "    ])\n",
    "    #dados NB\n",
    "    pipeline_nb = Pipeline([\n",
    "    ('bow',CountVectorizer(analyzer=processamento_texto,encoding ='unicode')),\n",
    "    ('tfidf',TfidfTransformer()),\n",
    "    ('nb',MultinomialNB())\n",
    "    ])\n",
    "    #dadps RF\n",
    "    pipeline_rf = Pipeline([\n",
    "    ('bow',CountVectorizer(analyzer=processamento_texto,encoding ='unicode')),\n",
    "    ('tfidf',TfidfTransformer()),\n",
    "    ('rf',RandomForestClassifier())\n",
    "    ])\n",
    "    \n",
    "    #Etapa de Fit\n",
    "    pipeline_svc.fit(lyric_train.values.astype('U'),gen_train.values.astype('U'))\n",
    "    pipeline_nb.fit(lyric_train.values.astype('U'),gen_train.values.astype('U'))\n",
    "    pipeline_rf.fit(lyric_train.values.astype('U'),gen_train.values.astype('U'))\n",
    "    \n",
    "    #Etapa 10-fold cross validation\n",
    "    scoring = {'accuracy' : 'accuracy', 'f1_score' : 'f1_micro'}\n",
    "    scores_svc = cross_validate(pipeline_svc,lyrics['lyric'].values.astype('U'),lyrics['gen'].values.astype('U'),cv=10,scoring=scoring)\n",
    "    scores_nb = cross_validate(pipeline_nb,lyrics['lyric'].values.astype('U'),lyrics['gen'].values.astype('U'),cv=10,scoring=scoring)\n",
    "    scores_rf = cross_validate(pipeline_rf,lyrics['lyric'].values.astype('U'),lyrics['gen'].values.astype('U'),cv=10,scoring=scoring)\n",
    "    \n",
    "    #Aninhamento de médias\n",
    "    #SVM\n",
    "    alg['SVM']['fit_time'] = np.append(alg['SVM']['fit_time'], scores_svc['fit_time'].mean())\n",
    "    alg['SVM']['score_time'] = np.append(alg['SVM']['score_time'], scores_svc['score_time'].mean())\n",
    "    alg['SVM']['test_accuracy'] = np.append(alg['SVM']['test_accuracy'], scores_svc['test_accuracy'].mean())\n",
    "    alg['SVM']['test_f1_score'] = np.append(alg['SVM']['test_f1_score'], scores_svc['test_f1_score'].mean())\n",
    "    #NB\n",
    "    alg['NB']['fit_time'] = np.append(alg['NB']['fit_time'], scores_nb['fit_time'].mean())\n",
    "    alg['NB']['score_time'] = np.append(alg['NB']['score_time'], scores_nb['score_time'].mean())\n",
    "    alg['NB']['test_accuracy'] = np.append(alg['NB']['test_accuracy'], scores_nb['test_accuracy'].mean())\n",
    "    alg['NB']['test_f1_score'] = np.append(alg['NB']['test_f1_score'], scores_nb['test_f1_score'].mean())\n",
    "    #RF\n",
    "    alg['RF']['fit_time'] = np.append(alg['RF']['fit_time'], scores_rf['fit_time'].mean())\n",
    "    alg['RF']['score_time'] = np.append(alg['RF']['score_time'], scores_rf['score_time'].mean())\n",
    "    alg['RF']['test_accuracy'] = np.append(alg['RF']['test_accuracy'], scores_rf['test_accuracy'].mean())\n",
    "    alg['RF']['test_f1_score'] = np.append(alg['RF']['test_f1_score'], scores_rf['test_f1_score'].mean())\n",
    "    "
   ]
  },
  {
   "cell_type": "code",
   "execution_count": 11,
   "id": "a330deac",
   "metadata": {},
   "outputs": [
    {
     "data": {
      "text/plain": [
       "{'SVM': {'fit_time': array([207.34197218,  87.36426384,  96.24261546,  93.44627266,\n",
       "          85.22867527]),\n",
       "  'score_time': array([15.82149842,  6.84751348,  7.54293625,  7.36248982,  6.67282929]),\n",
       "  'test_accuracy': array([0.82127273, 0.82127273, 0.82127273, 0.82127273, 0.82127273]),\n",
       "  'test_f1_score': array([0.82127273, 0.82127273, 0.82127273, 0.82127273, 0.82127273])},\n",
       " 'RF': {'fit_time': array([85.25479734, 69.22626827, 77.2579206 , 66.60238929, 65.90213981]),\n",
       "  'score_time': array([0.29199908, 0.2286329 , 0.26484087, 0.22070985, 0.22501905]),\n",
       "  'test_accuracy': array([0.76054545, 0.76063636, 0.76      , 0.76254545, 0.75863636]),\n",
       "  'test_f1_score': array([0.76054545, 0.76063636, 0.76      , 0.76254545, 0.75863636])},\n",
       " 'NB': {'fit_time': array([2.00988569, 1.64678171, 1.83403141, 1.85574608, 1.57498763]),\n",
       "  'score_time': array([0.19064798, 0.15430329, 0.18295522, 0.18057325, 0.14743645]),\n",
       "  'test_accuracy': array([0.58527273, 0.58527273, 0.58527273, 0.58527273, 0.58527273]),\n",
       "  'test_f1_score': array([0.58527273, 0.58527273, 0.58527273, 0.58527273, 0.58527273])}}"
      ]
     },
     "execution_count": 11,
     "metadata": {},
     "output_type": "execute_result"
    }
   ],
   "source": [
    "alg"
   ]
  },
  {
   "cell_type": "code",
   "execution_count": 12,
   "id": "8a765cfa",
   "metadata": {},
   "outputs": [],
   "source": [
    "alg_media_final ={'SVM':{\n",
    "    'fit_time': alg['SVM']['fit_time'].mean(),\n",
    "    'score_time':alg['SVM']['score_time'].mean(),\n",
    "    'test_accuracy':alg['SVM']['test_accuracy'].mean(),\n",
    "    'test_f1_score':alg['SVM']['test_f1_score'].mean(),\n",
    "},\n",
    "     'RF':{\n",
    "    'fit_time': alg['RF']['fit_time'].mean(),\n",
    "    'score_time':alg['RF']['score_time'].mean(),\n",
    "    'test_accuracy':alg['RF']['test_accuracy'].mean(),\n",
    "    'test_f1_score':alg['RF']['test_f1_score'].mean(),\n",
    "},\n",
    "     'NB':{\n",
    "    'fit_time': alg['NB']['fit_time'].mean(),\n",
    "    'score_time':alg['NB']['score_time'].mean(),\n",
    "    'test_accuracy':alg['NB']['test_accuracy'].mean(),\n",
    "    'test_f1_score':alg['NB']['test_f1_score'].mean(),\n",
    "} }"
   ]
  },
  {
   "cell_type": "code",
   "execution_count": 13,
   "id": "c3f5eec9",
   "metadata": {},
   "outputs": [],
   "source": [
    "alg_media_final['SVM']['execution_time'] = alg_media_final['SVM']['fit_time'] + alg_media_final['SVM']['score_time']\n",
    "alg_media_final['RF']['execution_time'] = alg_media_final['RF']['fit_time'] + alg_media_final['RF']['score_time']\n",
    "alg_media_final['NB']['execution_time'] = alg_media_final['NB']['fit_time'] + alg_media_final['NB']['score_time']"
   ]
  },
  {
   "cell_type": "code",
   "execution_count": 14,
   "id": "3b65737c",
   "metadata": {},
   "outputs": [
    {
     "data": {
      "text/plain": [
       "{'SVM': {'fit_time': 113.92475988388063,\n",
       "  'score_time': 8.849453454017638,\n",
       "  'test_accuracy': 0.8212727272727273,\n",
       "  'test_f1_score': 0.8212727272727273,\n",
       "  'execution_time': 122.77421333789826},\n",
       " 'RF': {'fit_time': 72.84870306015014,\n",
       "  'score_time': 0.24624034881591794,\n",
       "  'test_accuracy': 0.7604727272727274,\n",
       "  'test_f1_score': 0.7604727272727273,\n",
       "  'execution_time': 73.09494340896606},\n",
       " 'NB': {'fit_time': 1.7842865037918092,\n",
       "  'score_time': 0.17118323802948,\n",
       "  'test_accuracy': 0.5852727272727273,\n",
       "  'test_f1_score': 0.5852727272727273,\n",
       "  'execution_time': 1.9554697418212892}}"
      ]
     },
     "execution_count": 14,
     "metadata": {},
     "output_type": "execute_result"
    }
   ],
   "source": [
    "alg_media_final"
   ]
  },
  {
   "cell_type": "code",
   "execution_count": 16,
   "id": "809ab564",
   "metadata": {},
   "outputs": [],
   "source": [
    "import matplotlib.pyplot as plt"
   ]
  },
  {
   "cell_type": "code",
   "execution_count": 17,
   "id": "879e8ae5",
   "metadata": {},
   "outputs": [
    {
     "data": {
      "image/png": "[encoded data removed]",
      "text/plain": [
       "<Figure size 432x288 with 1 Axes>"
      ]
     },
     "metadata": {
      "needs_background": "light"
     },
     "output_type": "display_data"
    }
   ],
   "source": [
    "N = 3\n",
    "ind = np.arange(N)  # the x locations for the groups\n",
    "width = 0.27      # the width of the bars\n",
    "\n",
    "fig = plt.figure()\n",
    "ax = fig.add_subplot()\n",
    "\n",
    "yvals = [alg_media_final['SVM']['score_time'], alg_media_final['SVM']['fit_time'], alg_media_final['SVM']['execution_time']]\n",
    "rects1 = ax.bar(ind, yvals, width, color='r')\n",
    "zvals = [alg_media_final['RF']['score_time'], alg_media_final['RF']['fit_time'], alg_media_final['RF']['execution_time']]\n",
    "rects2 = ax.bar(ind+width, zvals, width, color='g')\n",
    "kvals = [alg_media_final['NB']['score_time'], alg_media_final['NB']['fit_time'], alg_media_final['NB']['execution_time']]\n",
    "rects3 = ax.bar(ind+width*2, kvals, width, color='b')\n",
    "\n",
    "ax.set_ylabel('Time (s)')\n",
    "ax.set_xticks(ind+width)\n",
    "ax.set_xticklabels( ('Score', 'Fit', 'Execution') )\n",
    "ax.legend( (rects1[0], rects2[0], rects3[0]), ('SVM', 'RF', 'NB') )\n",
    "\n",
    "def autolabel(rects):\n",
    "    for rect in rects:\n",
    "        h = rect.get_height()\n",
    "        ax.text(rect.get_x()+rect.get_width()/2., h+1, '%.2f'%h,\n",
    "                ha='center')\n",
    "\n",
    "autolabel(rects1)\n",
    "autolabel(rects2)\n",
    "autolabel(rects3)\n",
    "\n",
    "plt.show()"
   ]
  },
  {
   "cell_type": "code",
   "execution_count": 18,
   "id": "3cdf4379",
   "metadata": {},
   "outputs": [
    {
     "data": {
      "image/png": "[encoded data removed]",
      "text/plain": [
       "<Figure size 432x288 with 1 Axes>"
      ]
     },
     "metadata": {
      "needs_background": "light"
     },
     "output_type": "display_data"
    }
   ],
   "source": [
    "N = 2\n",
    "ind = np.arange(N)  # the x locations for the groups\n",
    "width = 0.20      # the width of the bars\n",
    "\n",
    "fig = plt.figure()\n",
    "ax = fig.add_subplot()\n",
    "\n",
    "yvals = [alg_media_final['SVM']['test_accuracy']*100, alg_media_final['SVM']['test_f1_score']*100]\n",
    "rects1 = ax.bar(ind, yvals, width, color='r')\n",
    "zvals = [alg_media_final['RF']['test_accuracy']*100, alg_media_final['RF']['test_f1_score']*100]\n",
    "rects2 = ax.bar(ind+width, zvals, width, color='g')\n",
    "kvals = [alg_media_final['NB']['test_accuracy']*100, alg_media_final['NB']['test_f1_score']*100]\n",
    "rects3 = ax.bar(ind+width*2, kvals, width, color='b')\n",
    "\n",
    "ax.set_ylabel('Score (%)')\n",
    "ax.set_xticks(ind+width)\n",
    "ax.set_xticklabels( ('Accuracy', 'F1_Score') )\n",
    "ax.legend( (rects1[0], rects2[0], rects3[0]), ('SVM', 'RF', 'NB') )\n",
    "\n",
    "def autolabel(rects):\n",
    "    for rect in rects:\n",
    "        h = rect.get_height()\n",
    "        ax.text(rect.get_x()+rect.get_width()/2., h+1, '%.2f'%h,\n",
    "                ha='center')\n",
    "\n",
    "autolabel(rects1)\n",
    "autolabel(rects2)\n",
    "autolabel(rects3)\n",
    "\n",
    "plt.show()"
   ]
  },
  {
   "cell_type": "code",
   "execution_count": null,
   "id": "b5e6b78b",
   "metadata": {},
   "outputs": [],
   "source": []
  }
 ],
 "metadata": {
  "kernelspec": {
   "display_name": "Python 3 (ipykernel)",
   "language": "python",
   "name": "python3"
  },
  "language_info": {
   "codemirror_mode": {
    "name": "ipython",
    "version": 3
   },
   "file_extension": ".py",
   "mimetype": "text/x-python",
   "name": "python",
   "nbconvert_exporter": "python",
   "pygments_lexer": "ipython3",
   "version": "3.10.2"
  }
 },
 "nbformat": 4,
 "nbformat_minor": 5
}
